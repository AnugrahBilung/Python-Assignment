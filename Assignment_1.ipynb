{
 "cells": [
  {
   "cell_type": "markdown",
   "id": "7c93e2a5",
   "metadata": {},
   "source": [
    "## Assignment_1"
   ]
  },
  {
   "cell_type": "markdown",
   "id": "0cd663a7",
   "metadata": {},
   "source": [
    "1.In the below elements which of them are values or an expression? eg:- values can be\n",
    "integer or string and expressions will be mathematical operators.\n",
    "\n",
    "=>\n",
    "* : Expression\n",
    "'hello' : Value\n",
    "-87.8 : Value\n",
    "- :  Expression\n",
    "/ :  Expression\n",
    "+ :  Expression\n",
    "6: Value"
   ]
  },
  {
   "cell_type": "markdown",
   "id": "0fc49c3f",
   "metadata": {},
   "source": [
    "2.What is the difference between string and variable?\n",
    "  \n",
    "=> String:\n",
    "   string are used to store only string constant or non-numeric data. Arithmetic operations such as (+,-,*,/) cannot be            performed on string.\n",
    "  \n",
    "   Variable:\n",
    "   Variable are used to store/contain only numeric constant value. Arithmetic operations such as (+,-,*,/) can be performed on      numeric variable.\n",
    "  "
   ]
  },
  {
   "cell_type": "markdown",
   "id": "2145b0ab",
   "metadata": {},
   "source": [
    "3.Describe three different data types.\n",
    "=>\n",
    "  (1) String\n",
    "  (2) Boolean\n",
    "  (3) Integer"
   ]
  },
  {
   "cell_type": "markdown",
   "id": "8b9fd048",
   "metadata": {},
   "source": [
    "4.What is an expression made up of? What do all expressions do?\n",
    "\n",
    "=> A combination of operands and operators is called an expression. The expression in Python produces some value or result after    being interpreted by the Python interpreter. An expression in Python is a combination of operators and operands. An example      of   expression can be : x = x + 1 0 x = x + 10 x=x+10."
   ]
  },
  {
   "cell_type": "markdown",
   "id": "6ebc24d3",
   "metadata": {},
   "source": [
    "5.This assignment statements, like spam = 10. What is the difference between an\n",
    "   expression and a statement?\n",
    "   \n",
    " => Expressions can be assigned or used as operands, while statements can only be declared. Statements create side effects to be     useful, while expressions are values or execute to values.\n",
    "\n"
   ]
  },
  {
   "cell_type": "markdown",
   "id": "8aa35137",
   "metadata": {},
   "source": [
    "6.After running the following code, what does the variable bacon contain?\n",
    " bacon = 22\n",
    " bacon + 1\n",
    " \n",
    "=> The bacon variable is set to 22. The bacon + 1 expression does not reassign the value in bacon (that would need an assignment     statement: bacon = bacon + 1)"
   ]
  },
  {
   "cell_type": "markdown",
   "id": "2f1131ac",
   "metadata": {},
   "source": [
    "7.What should the values of the following two terms be?\n",
    " 'spam'+'spamspam'\n",
    " 'spam'*3\n",
    " \n",
    "=> Both expressions evaluate to the string 'spamspamspam'."
   ]
  },
  {
   "cell_type": "markdown",
   "id": "e0d63d9f",
   "metadata": {},
   "source": [
    "8.Why is eggs a valid variable name while 100 is invalid?\n",
    "\n",
    "=> Variable names cannot begin with a number."
   ]
  },
  {
   "cell_type": "markdown",
   "id": "49700c40",
   "metadata": {},
   "source": [
    "9.What three functions can be used to get the integer, floating-point number, or string\n",
    " version of a value?\n",
    " \n",
    "=> The int(), float(), and str() functions will evaluate to the integer, floating-point number, and string versions of the value    passed to them."
   ]
  },
  {
   "cell_type": "markdown",
   "id": "b61e7089",
   "metadata": {},
   "source": [
    "10.Why does this expression cause an error? How can you fix it?\n",
    "\n",
    "=> The expression causes an error because 99 is an integer, and only strings can be concatenated to other strings with the +        operator. The correct way is I have eaten ' + str(99) + ' burritos.'."
   ]
  }
 ],
 "metadata": {
  "kernelspec": {
   "display_name": "Python 3 (ipykernel)",
   "language": "python",
   "name": "python3"
  },
  "language_info": {
   "codemirror_mode": {
    "name": "ipython",
    "version": 3
   },
   "file_extension": ".py",
   "mimetype": "text/x-python",
   "name": "python",
   "nbconvert_exporter": "python",
   "pygments_lexer": "ipython3",
   "version": "3.10.9"
  }
 },
 "nbformat": 4,
 "nbformat_minor": 5
}
